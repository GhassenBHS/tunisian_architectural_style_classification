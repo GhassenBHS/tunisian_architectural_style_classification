{
 "cells": [
  {
   "cell_type": "code",
   "execution_count": 1,
   "metadata": {},
   "outputs": [
    {
     "name": "stderr",
     "output_type": "stream",
     "text": [
      "Using TensorFlow backend.\n"
     ]
    }
   ],
   "source": [
    "from keras.models import Sequential\n",
    "from keras.layers import Conv2D, MaxPooling2D\n",
    "from keras.layers import Activation, Dropout, Flatten, Dense\n",
    "from keras import backend as K\n",
    "\n",
    "import matplotlib.pyplot as plt\n",
    "import numpy\n",
    "\n",
    "import os"
   ]
  },
  {
   "cell_type": "code",
   "execution_count": 2,
   "metadata": {},
   "outputs": [],
   "source": [
    "paths = ['data/train/islamic' , 'data/train/colonial' , 'data/train/ancient', 'data/train/sidibou' , \n",
    "        'data/validation/islamic' , 'data/validation/colonial' , 'data/validation/ancient', 'data/validation/sidibou']\n",
    "\n",
    "def rename_files():\n",
    "    for path in paths:\n",
    "        i = 1\n",
    "        files = os.listdir(path)\n",
    "        for file in files:\n",
    "            _, file_extension = os.path.splitext(file)\n",
    "            os.rename(os.path.join(path, file), os.path.join(path, path.split(\"/\")[2]+ \"{0:03}\".format(i) +\".jpg\"))\n",
    "            i = i+1"
   ]
  },
  {
   "cell_type": "code",
   "execution_count": 29,
   "metadata": {},
   "outputs": [],
   "source": [
    "rename_files()\n"
   ]
  },
  {
   "cell_type": "code",
   "execution_count": 3,
   "metadata": {},
   "outputs": [],
   "source": [
    "from keras.preprocessing.image import ImageDataGenerator\n",
    "\n",
    "datagen = ImageDataGenerator(\n",
    "        rotation_range=40,\n",
    "        width_shift_range=0.2,\n",
    "        height_shift_range=0.2,\n",
    "        rescale=1./255,\n",
    "        shear_range=0.2,\n",
    "        zoom_range=0.2,\n",
    "        horizontal_flip=True,\n",
    "        fill_mode='nearest')\n",
    "\n"
   ]
  },
  {
   "cell_type": "code",
   "execution_count": 6,
   "metadata": {},
   "outputs": [],
   "source": [
    "from keras.preprocessing.image import ImageDataGenerator, array_to_img, img_to_array, load_img\n",
    "\n",
    "datagen = ImageDataGenerator(\n",
    "        rotation_range=40,\n",
    "        width_shift_range=0.2,\n",
    "        height_shift_range=0.2,\n",
    "        shear_range=0.2,\n",
    "        zoom_range=0.2,\n",
    "        horizontal_flip=True,\n",
    "        fill_mode='nearest')\n",
    "\n",
    "img = load_img('th1.jpg')  # this is a PIL image\n",
    "x = img_to_array(img)  # this is a Numpy array with shape (3, 150, 150)\n",
    "x = x.reshape((1,) + x.shape)  # this is a Numpy array with shape (1, 3, 150, 150)\n",
    "\n",
    "# the .flow() command below generates batches of randomly transformed images\n",
    "# and saves the results to the `preview/` directory\n",
    "i = 0\n",
    "for batch in datagen.flow(x, batch_size=1,\n",
    "                          save_to_dir='preview', save_prefix='ancient', save_format='jpeg'):\n",
    "    i += 1\n",
    "    if i > 20:\n",
    "        break  # otherwise the generator would loop indefinitely"
   ]
  },
  {
   "cell_type": "code",
   "execution_count": 9,
   "metadata": {},
   "outputs": [],
   "source": [
    "if K.image_data_format() == 'channels_first':\n",
    "    input_shape = (3, 128, 128)\n",
    "else:\n",
    "    input_shape = (128, 128, 3)\n",
    "\n",
    "model = Sequential()\n",
    "model.add(Conv2D(32, (3, 3), input_shape=input_shape))\n",
    "model.add(Activation('relu'))\n",
    "model.add(MaxPooling2D(pool_size=(2, 2)))\n",
    "\n",
    "model.add(Conv2D(32, (3, 3)))\n",
    "model.add(Activation('relu'))\n",
    "model.add(MaxPooling2D(pool_size=(2, 2)))\n",
    "\n",
    "model.add(Conv2D(64, (3, 3)))\n",
    "model.add(Activation('relu'))\n",
    "model.add(MaxPooling2D(pool_size=(2, 2)))\n",
    "\n",
    "model.add(Flatten())  # this converts our 3D feature maps to 1D feature vectors\n",
    "model.add(Dense(64))\n",
    "model.add(Activation('relu'))\n",
    "model.add(Dropout(0.5))\n",
    "model.add(Dense(4))\n",
    "model.add(Activation('softmax'))\n",
    "\n",
    "model.compile(loss='categorical_crossentropy',\n",
    "              optimizer='adam',\n",
    "              metrics=['accuracy'])"
   ]
  },
  {
   "cell_type": "code",
   "execution_count": 36,
   "metadata": {},
   "outputs": [
    {
     "name": "stdout",
     "output_type": "stream",
     "text": [
      "Found 2299 images belonging to 4 classes.\n",
      "Found 300 images belonging to 4 classes.\n"
     ]
    }
   ],
   "source": [
    "batch_size = 16\n",
    "\n",
    "# this is the augmentation configuration we will use for training\n",
    "train_datagen = ImageDataGenerator(\n",
    "        rotation_range=40,\n",
    "        width_shift_range=0.2,\n",
    "        height_shift_range=0.2,\n",
    "        rescale=1./255,\n",
    "        shear_range=0.2,\n",
    "        zoom_range=0.2,\n",
    "        horizontal_flip=True)\n",
    "\n",
    "# this is the augmentation configuration we will use for testing:\n",
    "# only rescaling\n",
    "test_datagen = ImageDataGenerator(rescale=1./255)\n",
    "\n",
    "# this is a generator that will read pictures found in\n",
    "# subfolers of 'data/train', and indefinitely generate\n",
    "# batches of augmented image data\n",
    "train_generator = train_datagen.flow_from_directory(\n",
    "        'data/train',  # this is the target directory\n",
    "        target_size=(128, 128),  \n",
    "        batch_size=batch_size,\n",
    "        class_mode='categorical') \n",
    "\n",
    "# this is a similar generator, for validation data\n",
    "validation_generator = test_datagen.flow_from_directory(\n",
    "        'data/validation',\n",
    "        target_size=(128, 128),\n",
    "        batch_size=batch_size,\n",
    "        class_mode='categorical')"
   ]
  },
  {
   "cell_type": "code",
   "execution_count": 31,
   "metadata": {
    "scrolled": true
   },
   "outputs": [
    {
     "name": "stdout",
     "output_type": "stream",
     "text": [
      "Epoch 1/50\n",
      "125/125 [==============================] - 21s 164ms/step - loss: 1.2137 - acc: 0.4745 - val_loss: 1.1489 - val_acc: 0.4407\n",
      "Epoch 2/50\n",
      "125/125 [==============================] - 18s 143ms/step - loss: 1.0869 - acc: 0.5294 - val_loss: 1.0526 - val_acc: 0.5292\n",
      "Epoch 3/50\n",
      "125/125 [==============================] - 19s 150ms/step - loss: 1.0610 - acc: 0.5341 - val_loss: 1.0988 - val_acc: 0.5051\n",
      "Epoch 4/50\n",
      "125/125 [==============================] - 20s 159ms/step - loss: 0.9746 - acc: 0.6041 - val_loss: 0.9930 - val_acc: 0.5635\n",
      "Epoch 5/50\n",
      "125/125 [==============================] - 18s 145ms/step - loss: 1.0840 - acc: 0.5341 - val_loss: 1.0165 - val_acc: 0.5495\n",
      "Epoch 6/50\n",
      "125/125 [==============================] - 18s 141ms/step - loss: 0.9777 - acc: 0.5960 - val_loss: 1.0093 - val_acc: 0.5354\n",
      "Epoch 7/50\n",
      "125/125 [==============================] - 18s 141ms/step - loss: 0.9665 - acc: 0.5956 - val_loss: 1.0341 - val_acc: 0.5317\n",
      "Epoch 8/50\n",
      "125/125 [==============================] - 19s 150ms/step - loss: 0.9285 - acc: 0.6130 - val_loss: 0.9213 - val_acc: 0.6117\n",
      "Epoch 9/50\n",
      "125/125 [==============================] - 19s 149ms/step - loss: 0.8901 - acc: 0.6241 - val_loss: 0.9054 - val_acc: 0.5997\n",
      "Epoch 10/50\n",
      "125/125 [==============================] - 18s 147ms/step - loss: 0.8674 - acc: 0.6404 - val_loss: 0.8552 - val_acc: 0.6650\n",
      "Epoch 11/50\n",
      "125/125 [==============================] - 18s 145ms/step - loss: 0.8624 - acc: 0.6529 - val_loss: 0.8633 - val_acc: 0.6616\n",
      "Epoch 12/50\n",
      "125/125 [==============================] - 17s 138ms/step - loss: 0.8380 - acc: 0.6509 - val_loss: 0.8967 - val_acc: 0.6104\n",
      "Epoch 13/50\n",
      "125/125 [==============================] - 17s 139ms/step - loss: 0.8173 - acc: 0.6676 - val_loss: 0.8496 - val_acc: 0.6802\n",
      "Epoch 14/50\n",
      "125/125 [==============================] - 19s 153ms/step - loss: 0.8080 - acc: 0.6708 - val_loss: 0.8721 - val_acc: 0.6755\n",
      "Epoch 15/50\n",
      "125/125 [==============================] - 20s 159ms/step - loss: 0.7788 - acc: 0.6821 - val_loss: 0.8041 - val_acc: 0.6777\n",
      "Epoch 16/50\n",
      "125/125 [==============================] - 19s 152ms/step - loss: 0.7595 - acc: 0.6805 - val_loss: 0.7902 - val_acc: 0.6904\n",
      "Epoch 17/50\n",
      "125/125 [==============================] - 19s 152ms/step - loss: 0.7571 - acc: 0.6911 - val_loss: 0.7500 - val_acc: 0.7071\n",
      "Epoch 18/50\n",
      "125/125 [==============================] - 19s 151ms/step - loss: 0.7139 - acc: 0.7066 - val_loss: 0.8327 - val_acc: 0.6459\n",
      "Epoch 19/50\n",
      "125/125 [==============================] - 19s 148ms/step - loss: 0.7056 - acc: 0.7208 - val_loss: 0.8579 - val_acc: 0.6662\n",
      "Epoch 20/50\n",
      "125/125 [==============================] - 18s 148ms/step - loss: 0.6940 - acc: 0.7155 - val_loss: 0.7850 - val_acc: 0.6957\n",
      "Epoch 21/50\n",
      "125/125 [==============================] - 19s 151ms/step - loss: 0.6691 - acc: 0.7380 - val_loss: 0.7453 - val_acc: 0.6827\n",
      "Epoch 22/50\n",
      "125/125 [==============================] - 19s 148ms/step - loss: 0.6243 - acc: 0.7478 - val_loss: 0.8116 - val_acc: 0.6919\n",
      "Epoch 23/50\n",
      "125/125 [==============================] - 19s 152ms/step - loss: 0.6508 - acc: 0.7445 - val_loss: 1.0422 - val_acc: 0.6675\n",
      "Epoch 24/50\n",
      "125/125 [==============================] - 18s 148ms/step - loss: 0.6580 - acc: 0.7488 - val_loss: 0.7751 - val_acc: 0.6726\n",
      "Epoch 25/50\n",
      "125/125 [==============================] - 19s 149ms/step - loss: 0.6408 - acc: 0.7543 - val_loss: 0.7357 - val_acc: 0.7146\n",
      "Epoch 26/50\n",
      "125/125 [==============================] - 19s 149ms/step - loss: 0.6486 - acc: 0.7425 - val_loss: 0.8221 - val_acc: 0.7195\n",
      "Epoch 27/50\n",
      "125/125 [==============================] - 19s 148ms/step - loss: 0.5852 - acc: 0.7846 - val_loss: 0.8465 - val_acc: 0.6942\n",
      "Epoch 28/50\n",
      "125/125 [==============================] - 19s 152ms/step - loss: 0.6118 - acc: 0.7523 - val_loss: 0.7265 - val_acc: 0.7273\n",
      "Epoch 29/50\n",
      "125/125 [==============================] - 19s 149ms/step - loss: 0.5967 - acc: 0.7548 - val_loss: 0.7652 - val_acc: 0.7069\n",
      "Epoch 30/50\n",
      "125/125 [==============================] - 19s 148ms/step - loss: 0.5717 - acc: 0.7708 - val_loss: 0.8171 - val_acc: 0.6970\n",
      "Epoch 31/50\n",
      "125/125 [==============================] - 19s 149ms/step - loss: 0.5700 - acc: 0.7800 - val_loss: 0.9030 - val_acc: 0.6383\n",
      "Epoch 32/50\n",
      "125/125 [==============================] - 19s 152ms/step - loss: 0.5174 - acc: 0.7908 - val_loss: 0.9539 - val_acc: 0.6827\n",
      "Epoch 33/50\n",
      "125/125 [==============================] - 19s 150ms/step - loss: 0.5473 - acc: 0.7848 - val_loss: 0.8367 - val_acc: 0.6970\n",
      "Epoch 34/50\n",
      "125/125 [==============================] - 20s 158ms/step - loss: 0.5568 - acc: 0.7831 - val_loss: 0.9153 - val_acc: 0.6891\n",
      "Epoch 35/50\n",
      "125/125 [==============================] - 25s 201ms/step - loss: 0.5133 - acc: 0.7890 - val_loss: 0.9469 - val_acc: 0.7132\n",
      "Epoch 36/50\n",
      "125/125 [==============================] - 20s 156ms/step - loss: 0.5351 - acc: 0.8015 - val_loss: 0.8456 - val_acc: 0.7020\n",
      "Epoch 37/50\n",
      "125/125 [==============================] - 19s 149ms/step - loss: 0.5196 - acc: 0.7933 - val_loss: 0.8560 - val_acc: 0.6726\n",
      "Epoch 38/50\n",
      "125/125 [==============================] - 19s 151ms/step - loss: 0.4937 - acc: 0.7930 - val_loss: 0.8046 - val_acc: 0.6840\n",
      "Epoch 39/50\n",
      "125/125 [==============================] - 19s 152ms/step - loss: 0.4948 - acc: 0.8015 - val_loss: 0.9119 - val_acc: 0.6995\n",
      "Epoch 40/50\n",
      "125/125 [==============================] - 20s 159ms/step - loss: 0.4577 - acc: 0.8263 - val_loss: 0.7944 - val_acc: 0.7094\n",
      "Epoch 41/50\n",
      "125/125 [==============================] - 20s 159ms/step - loss: 0.4531 - acc: 0.8288 - val_loss: 0.8388 - val_acc: 0.7260\n",
      "Epoch 42/50\n",
      "125/125 [==============================] - 19s 151ms/step - loss: 0.4738 - acc: 0.8050 - val_loss: 0.8598 - val_acc: 0.6954\n",
      "Epoch 43/50\n",
      "125/125 [==============================] - 19s 152ms/step - loss: 0.4625 - acc: 0.8113 - val_loss: 0.9560 - val_acc: 0.6891\n",
      "Epoch 44/50\n",
      "125/125 [==============================] - 19s 155ms/step - loss: 0.4431 - acc: 0.8300 - val_loss: 1.0108 - val_acc: 0.6364\n",
      "Epoch 45/50\n",
      "125/125 [==============================] - 19s 152ms/step - loss: 0.4560 - acc: 0.8173 - val_loss: 0.9282 - val_acc: 0.7081\n",
      "Epoch 46/50\n",
      "125/125 [==============================] - 22s 175ms/step - loss: 0.4330 - acc: 0.8265 - val_loss: 0.7512 - val_acc: 0.7094\n",
      "Epoch 47/50\n",
      "125/125 [==============================] - 21s 168ms/step - loss: 0.4155 - acc: 0.8358 - val_loss: 0.9055 - val_acc: 0.7008\n",
      "Epoch 48/50\n",
      "125/125 [==============================] - 22s 177ms/step - loss: 0.4299 - acc: 0.8411 - val_loss: 0.7823 - val_acc: 0.7119\n",
      "Epoch 49/50\n",
      "125/125 [==============================] - 21s 171ms/step - loss: 0.4271 - acc: 0.8248 - val_loss: 0.7797 - val_acc: 0.7058\n",
      "Epoch 50/50\n",
      "125/125 [==============================] - 19s 151ms/step - loss: 0.3894 - acc: 0.8370 - val_loss: 1.0157 - val_acc: 0.7145\n"
     ]
    },
    {
     "data": {
      "text/plain": [
       "<keras.callbacks.History at 0x7f58ba6fa048>"
      ]
     },
     "execution_count": 31,
     "metadata": {},
     "output_type": "execute_result"
    }
   ],
   "source": [
    "model.fit_generator(\n",
    "        train_generator,\n",
    "        steps_per_epoch=2000 // batch_size,\n",
    "        epochs=50,\n",
    "        validation_data=validation_generator,\n",
    "        validation_steps=800 // batch_size)"
   ]
  },
  {
   "cell_type": "code",
   "execution_count": 32,
   "metadata": {},
   "outputs": [],
   "source": [
    "model.save_weights('first_try.h5') "
   ]
  },
  {
   "cell_type": "code",
   "execution_count": 37,
   "metadata": {
    "scrolled": true
   },
   "outputs": [
    {
     "name": "stdout",
     "output_type": "stream",
     "text": [
      "Epoch 1/50\n",
      "125/125 [==============================] - 19s 150ms/step - loss: 0.8897 - acc: 0.6425 - val_loss: 0.7064 - val_acc: 0.7134\n",
      "Epoch 2/50\n",
      "125/125 [==============================] - 19s 153ms/step - loss: 0.8403 - acc: 0.6708 - val_loss: 0.7889 - val_acc: 0.6853\n",
      "Epoch 3/50\n",
      "125/125 [==============================] - 19s 154ms/step - loss: 0.8466 - acc: 0.6449 - val_loss: 0.6993 - val_acc: 0.6856\n",
      "Epoch 4/50\n",
      "125/125 [==============================] - 23s 184ms/step - loss: 0.7859 - acc: 0.6983 - val_loss: 0.8450 - val_acc: 0.6701\n",
      "Epoch 5/50\n",
      "125/125 [==============================] - 23s 187ms/step - loss: 0.7715 - acc: 0.6860 - val_loss: 0.9737 - val_acc: 0.6510\n",
      "Epoch 6/50\n",
      "125/125 [==============================] - 22s 178ms/step - loss: 0.7880 - acc: 0.6934 - val_loss: 0.6566 - val_acc: 0.7551\n",
      "Epoch 7/50\n",
      "125/125 [==============================] - 21s 168ms/step - loss: 0.7820 - acc: 0.6873 - val_loss: 0.6693 - val_acc: 0.7373\n",
      "Epoch 8/50\n",
      "125/125 [==============================] - 28s 225ms/step - loss: 0.7663 - acc: 0.6980 - val_loss: 0.7486 - val_acc: 0.6992\n",
      "Epoch 9/50\n",
      "125/125 [==============================] - 27s 217ms/step - loss: 0.7829 - acc: 0.7003 - val_loss: 0.6525 - val_acc: 0.7210\n",
      "Epoch 10/50\n",
      "125/125 [==============================] - 28s 225ms/step - loss: 0.7359 - acc: 0.7118 - val_loss: 0.8247 - val_acc: 0.6827\n",
      "Epoch 11/50\n",
      "125/125 [==============================] - 27s 220ms/step - loss: 0.7159 - acc: 0.7184 - val_loss: 0.6900 - val_acc: 0.7247\n",
      "Epoch 12/50\n",
      "125/125 [==============================] - 23s 181ms/step - loss: 0.7443 - acc: 0.7000 - val_loss: 0.6601 - val_acc: 0.7195\n",
      "Epoch 13/50\n",
      "125/125 [==============================] - 22s 176ms/step - loss: 0.7298 - acc: 0.7058 - val_loss: 0.5980 - val_acc: 0.7665\n",
      "Epoch 14/50\n",
      "125/125 [==============================] - 21s 170ms/step - loss: 0.7654 - acc: 0.7060 - val_loss: 0.7275 - val_acc: 0.7235\n",
      "Epoch 15/50\n",
      "125/125 [==============================] - 19s 153ms/step - loss: 0.7315 - acc: 0.7125 - val_loss: 0.6942 - val_acc: 0.7107\n",
      "Epoch 16/50\n",
      "125/125 [==============================] - 19s 154ms/step - loss: 0.7100 - acc: 0.7305 - val_loss: 0.6394 - val_acc: 0.7589\n",
      "Epoch 17/50\n",
      "125/125 [==============================] - 29s 229ms/step - loss: 0.7023 - acc: 0.7211 - val_loss: 0.6580 - val_acc: 0.7298\n",
      "Epoch 18/50\n",
      "125/125 [==============================] - 40s 324ms/step - loss: 0.6732 - acc: 0.7350 - val_loss: 0.6851 - val_acc: 0.7386\n",
      "Epoch 19/50\n",
      "125/125 [==============================] - 34s 269ms/step - loss: 0.7177 - acc: 0.7146 - val_loss: 0.6169 - val_acc: 0.7310\n",
      "Epoch 20/50\n",
      "125/125 [==============================] - 28s 223ms/step - loss: 0.6761 - acc: 0.7259 - val_loss: 0.7046 - val_acc: 0.7235\n",
      "Epoch 21/50\n",
      "125/125 [==============================] - 27s 217ms/step - loss: 0.7243 - acc: 0.7158 - val_loss: 0.7365 - val_acc: 0.7576\n",
      "Epoch 22/50\n",
      "125/125 [==============================] - 27s 217ms/step - loss: 0.7164 - acc: 0.7160 - val_loss: 0.6573 - val_acc: 0.7374\n",
      "Epoch 23/50\n",
      "125/125 [==============================] - 27s 219ms/step - loss: 0.6938 - acc: 0.7285 - val_loss: 0.6278 - val_acc: 0.7449\n",
      "Epoch 24/50\n",
      "125/125 [==============================] - 29s 231ms/step - loss: 0.7182 - acc: 0.7164 - val_loss: 0.5899 - val_acc: 0.7779\n",
      "Epoch 25/50\n",
      "125/125 [==============================] - 28s 220ms/step - loss: 0.6985 - acc: 0.7315 - val_loss: 0.6741 - val_acc: 0.7538\n",
      "Epoch 26/50\n",
      "125/125 [==============================] - 27s 217ms/step - loss: 0.6773 - acc: 0.7423 - val_loss: 0.6450 - val_acc: 0.7373\n",
      "Epoch 27/50\n",
      "125/125 [==============================] - 27s 219ms/step - loss: 0.6958 - acc: 0.7276 - val_loss: 0.6332 - val_acc: 0.7665\n",
      "Epoch 28/50\n",
      "125/125 [==============================] - 27s 219ms/step - loss: 0.7134 - acc: 0.7318 - val_loss: 0.6979 - val_acc: 0.7361\n",
      "Epoch 29/50\n",
      "125/125 [==============================] - 27s 216ms/step - loss: 0.6618 - acc: 0.7480 - val_loss: 0.6578 - val_acc: 0.7297\n",
      "Epoch 30/50\n",
      "125/125 [==============================] - 27s 219ms/step - loss: 0.7079 - acc: 0.7284 - val_loss: 0.6124 - val_acc: 0.7475\n",
      "Epoch 31/50\n",
      "125/125 [==============================] - 28s 222ms/step - loss: 0.6597 - acc: 0.7385 - val_loss: 0.6284 - val_acc: 0.7525\n",
      "Epoch 32/50\n",
      "125/125 [==============================] - 27s 217ms/step - loss: 0.6691 - acc: 0.7325 - val_loss: 0.5810 - val_acc: 0.7602\n",
      "Epoch 33/50\n",
      "125/125 [==============================] - 27s 216ms/step - loss: 0.6659 - acc: 0.7340 - val_loss: 0.6326 - val_acc: 0.7626\n",
      "Epoch 34/50\n",
      "125/125 [==============================] - 27s 216ms/step - loss: 0.6509 - acc: 0.7431 - val_loss: 0.7233 - val_acc: 0.7297\n",
      "Epoch 35/50\n",
      "125/125 [==============================] - 28s 225ms/step - loss: 0.6880 - acc: 0.7288 - val_loss: 0.7276 - val_acc: 0.7208\n",
      "Epoch 36/50\n",
      "125/125 [==============================] - 28s 221ms/step - loss: 0.6227 - acc: 0.7503 - val_loss: 0.5982 - val_acc: 0.7689\n",
      "Epoch 37/50\n",
      "125/125 [==============================] - 27s 215ms/step - loss: 0.6780 - acc: 0.7473 - val_loss: 0.7038 - val_acc: 0.7246\n",
      "Epoch 38/50\n",
      "125/125 [==============================] - 27s 214ms/step - loss: 0.6367 - acc: 0.7480 - val_loss: 0.5864 - val_acc: 0.7652\n",
      "Epoch 39/50\n",
      "125/125 [==============================] - 27s 216ms/step - loss: 0.6923 - acc: 0.7241 - val_loss: 0.5819 - val_acc: 0.7816\n",
      "Epoch 40/50\n",
      "125/125 [==============================] - 27s 216ms/step - loss: 0.6528 - acc: 0.7523 - val_loss: 0.6293 - val_acc: 0.7627\n",
      "Epoch 41/50\n",
      "125/125 [==============================] - 23s 183ms/step - loss: 0.6504 - acc: 0.7543 - val_loss: 0.5906 - val_acc: 0.7639\n",
      "Epoch 42/50\n",
      "125/125 [==============================] - 28s 221ms/step - loss: 0.6555 - acc: 0.7490 - val_loss: 0.6158 - val_acc: 0.7551\n",
      "Epoch 43/50\n",
      "125/125 [==============================] - 29s 231ms/step - loss: 0.6196 - acc: 0.7510 - val_loss: 0.5992 - val_acc: 0.7741\n",
      "Epoch 44/50\n",
      "125/125 [==============================] - 32s 259ms/step - loss: 0.6389 - acc: 0.7528 - val_loss: 0.6189 - val_acc: 0.7563\n",
      "Epoch 45/50\n",
      "125/125 [==============================] - 32s 253ms/step - loss: 0.6258 - acc: 0.7475 - val_loss: 0.5955 - val_acc: 0.7614\n",
      "Epoch 46/50\n",
      "125/125 [==============================] - 27s 218ms/step - loss: 0.6352 - acc: 0.7580 - val_loss: 0.5976 - val_acc: 0.7716\n",
      "Epoch 47/50\n",
      "125/125 [==============================] - 20s 160ms/step - loss: 0.6271 - acc: 0.7620 - val_loss: 0.6273 - val_acc: 0.7652\n",
      "Epoch 48/50\n",
      "125/125 [==============================] - 20s 158ms/step - loss: 0.6595 - acc: 0.7381 - val_loss: 0.6670 - val_acc: 0.7462\n",
      "Epoch 49/50\n",
      "125/125 [==============================] - 21s 169ms/step - loss: 0.6344 - acc: 0.7495 - val_loss: 0.5590 - val_acc: 0.7765\n",
      "Epoch 50/50\n",
      "125/125 [==============================] - 22s 179ms/step - loss: 0.6268 - acc: 0.7540 - val_loss: 0.5913 - val_acc: 0.7640\n"
     ]
    },
    {
     "data": {
      "image/png": "[encoded data removed]",
      "text/plain": [
       "<Figure size 432x288 with 1 Axes>"
      ]
     },
     "metadata": {
      "needs_background": "light"
     },
     "output_type": "display_data"
    },
    {
     "data": {
      "image/png": "[encoded data removed]",
      "text/plain": [
       "<Figure size 432x288 with 1 Axes>"
      ]
     },
     "metadata": {
      "needs_background": "light"
     },
     "output_type": "display_data"
    }
   ],
   "source": [
    "history = model.fit_generator(\n",
    "        train_generator,\n",
    "        steps_per_epoch=2000 // batch_size,\n",
    "        epochs=50,\n",
    "        validation_data=validation_generator,\n",
    "        validation_steps=800 // batch_size)\n",
    "\n",
    "plt.plot(history.history['acc'])\n",
    "plt.plot(history.history['val_acc'])\n",
    "plt.title('model accuracy')\n",
    "plt.ylabel('accuracy')\n",
    "plt.xlabel('epoch')\n",
    "plt.legend(['train', 'test'], loc='upper left')\n",
    "plt.show()\n",
    "# summarize history for loss\n",
    "plt.plot(history.history['loss'])\n",
    "plt.plot(history.history['val_loss'])\n",
    "plt.title('model loss')\n",
    "plt.ylabel('loss')\n",
    "plt.xlabel('epoch')\n",
    "plt.legend(['train', 'test'], loc='upper left')\n",
    "plt.show()"
   ]
  },
  {
   "cell_type": "code",
   "execution_count": 38,
   "metadata": {},
   "outputs": [],
   "source": [
    "model.save_weights('second_try.h5') "
   ]
  },
  {
   "cell_type": "code",
   "execution_count": null,
   "metadata": {},
   "outputs": [],
   "source": []
  }
 ],
 "metadata": {
  "kernelspec": {
   "display_name": "Python 3",
   "language": "python",
   "name": "python3"
  },
  "language_info": {
   "codemirror_mode": {
    "name": "ipython",
    "version": 3
   },
   "file_extension": ".py",
   "mimetype": "text/x-python",
   "name": "python",
   "nbconvert_exporter": "python",
   "pygments_lexer": "ipython3",
   "version": "3.6.6"
  }
 },
 "nbformat": 4,
 "nbformat_minor": 2
}
