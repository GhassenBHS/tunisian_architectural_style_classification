{
 "cells": [
  {
   "cell_type": "markdown",
   "metadata": {},
   "source": [
    "## Data Resizing and cleaning\n",
    "\n",
    "put all images in size of 128*128"
   ]
  },
  {
   "cell_type": "code",
   "execution_count": 1,
   "metadata": {},
   "outputs": [],
   "source": [
    "import cv2\n",
    "import os\n",
    "import random\n",
    "import matplotlib.pylab as plt\n",
    "from glob import glob\n",
    "import pandas as pd\n",
    "import numpy as np\n",
    "import PIL\n",
    "from PIL import Image"
   ]
  },
  {
   "cell_type": "code",
   "execution_count": 4,
   "metadata": {},
   "outputs": [],
   "source": []
  },
  {
   "cell_type": "markdown",
   "metadata": {},
   "source": [
    "#### Get all files in a each architecture type and rename them."
   ]
  },
  {
   "cell_type": "code",
   "execution_count": 8,
   "metadata": {},
   "outputs": [],
   "source": [
    "paths = ['../islamic_style/' , '../colonial_style' , '../Roman_Cartaginian_style', '../Sidi_BouSaid_Style']\n",
    "\n",
    "def rename_files():\n",
    "    for path in paths:\n",
    "        i = 1\n",
    "        files = os.listdir(path)\n",
    "        for file in files:\n",
    "            _, file_extension = os.path.splitext(file)\n",
    "            os.rename(os.path.join(path, file), os.path.join(path, str(i)+file_extension))\n",
    "            i = i+1\n",
    "    "
   ]
  },
  {
   "cell_type": "code",
   "execution_count": 9,
   "metadata": {},
   "outputs": [],
   "source": [
    "rename_files()"
   ]
  },
  {
   "cell_type": "markdown",
   "metadata": {},
   "source": [
    "#### Resize Images"
   ]
  },
  {
   "cell_type": "code",
   "execution_count": null,
   "metadata": {},
   "outputs": [],
   "source": [
    "basewidth = 128\n",
    "img = Image.open(\"1.jpg\")\n",
    "hsize = 128\n",
    "img = img.resize((basewidth, hsize), PIL.Image.ANTIALIAS)\n",
    "img.save(\"resized.jpg\")"
   ]
  },
  {
   "cell_type": "code",
   "execution_count": 10,
   "metadata": {},
   "outputs": [],
   "source": [
    "import glob, os\n",
    "\n",
    "from os import walk\n",
    "\n",
    "def get_filenames(path):\n",
    "    f = []\n",
    "    for (dirpath, dirnames, filenames) in walk(path):\n",
    "        f.extend(filenames)\n",
    "        break\n",
    "    return f\n",
    "\n",
    "\n",
    "\n",
    "def resize(filenames, path, saveing_path):\n",
    "    size = 128, 128\n",
    "    for infile in filenames:\n",
    "        file, ext = os.path.splitext(infile)\n",
    "        im = Image.open(path + infile)\n",
    "        rgb_im = im.convert('RGB')\n",
    "        rgb_im = rgb_im.resize((128, 128), PIL.Image.ANTIALIAS)\n",
    "        rgb_im.save(saveing_path + file , \"JPEG\")\n",
    "\n"
   ]
  },
  {
   "cell_type": "code",
   "execution_count": 12,
   "metadata": {
    "scrolled": true
   },
   "outputs": [
    {
     "name": "stderr",
     "output_type": "stream",
     "text": [
      "/usr/local/anaconda3/lib/python3.6/site-packages/PIL/TiffImagePlugin.py:747: UserWarning: Possibly corrupt EXIF data.  Expecting to read 10485760 bytes but only got 0. Skipping tag 4\n",
      "  \" Skipping tag %s\" % (size, len(data), tag))\n",
      "/usr/local/anaconda3/lib/python3.6/site-packages/PIL/TiffImagePlugin.py:747: UserWarning: Possibly corrupt EXIF data.  Expecting to read 5832704 bytes but only got 0. Skipping tag 4\n",
      "  \" Skipping tag %s\" % (size, len(data), tag))\n",
      "/usr/local/anaconda3/lib/python3.6/site-packages/PIL/TiffImagePlugin.py:747: UserWarning: Possibly corrupt EXIF data.  Expecting to read 153354240 bytes but only got 0. Skipping tag 3\n",
      "  \" Skipping tag %s\" % (size, len(data), tag))\n",
      "/usr/local/anaconda3/lib/python3.6/site-packages/PIL/TiffImagePlugin.py:747: UserWarning: Possibly corrupt EXIF data.  Expecting to read 393216 bytes but only got 0. Skipping tag 3\n",
      "  \" Skipping tag %s\" % (size, len(data), tag))\n",
      "/usr/local/anaconda3/lib/python3.6/site-packages/PIL/TiffImagePlugin.py:747: UserWarning: Possibly corrupt EXIF data.  Expecting to read 116981760 bytes but only got 0. Skipping tag 4\n",
      "  \" Skipping tag %s\" % (size, len(data), tag))\n",
      "/usr/local/anaconda3/lib/python3.6/site-packages/PIL/TiffImagePlugin.py:747: UserWarning: Possibly corrupt EXIF data.  Expecting to read 196608 bytes but only got 0. Skipping tag 3\n",
      "  \" Skipping tag %s\" % (size, len(data), tag))\n",
      "/usr/local/anaconda3/lib/python3.6/site-packages/PIL/TiffImagePlugin.py:747: UserWarning: Possibly corrupt EXIF data.  Expecting to read 359923712 bytes but only got 0. Skipping tag 4\n",
      "  \" Skipping tag %s\" % (size, len(data), tag))\n",
      "/usr/local/anaconda3/lib/python3.6/site-packages/PIL/TiffImagePlugin.py:747: UserWarning: Possibly corrupt EXIF data.  Expecting to read 75628544 bytes but only got 0. Skipping tag 5\n",
      "  \" Skipping tag %s\" % (size, len(data), tag))\n",
      "/usr/local/anaconda3/lib/python3.6/site-packages/PIL/TiffImagePlugin.py:747: UserWarning: Possibly corrupt EXIF data.  Expecting to read 76152832 bytes but only got 0. Skipping tag 5\n",
      "  \" Skipping tag %s\" % (size, len(data), tag))\n",
      "/usr/local/anaconda3/lib/python3.6/site-packages/PIL/TiffImagePlugin.py:747: UserWarning: Possibly corrupt EXIF data.  Expecting to read 131072 bytes but only got 0. Skipping tag 3\n",
      "  \" Skipping tag %s\" % (size, len(data), tag))\n",
      "/usr/local/anaconda3/lib/python3.6/site-packages/PIL/TiffImagePlugin.py:747: UserWarning: Possibly corrupt EXIF data.  Expecting to read 65536 bytes but only got 0. Skipping tag 3\n",
      "  \" Skipping tag %s\" % (size, len(data), tag))\n",
      "/usr/local/anaconda3/lib/python3.6/site-packages/PIL/TiffImagePlugin.py:747: UserWarning: Possibly corrupt EXIF data.  Expecting to read 77070336 bytes but only got 0. Skipping tag 4\n",
      "  \" Skipping tag %s\" % (size, len(data), tag))\n",
      "/usr/local/anaconda3/lib/python3.6/site-packages/PIL/TiffImagePlugin.py:747: UserWarning: Possibly corrupt EXIF data.  Expecting to read 399835136 bytes but only got 0. Skipping tag 4\n",
      "  \" Skipping tag %s\" % (size, len(data), tag))\n",
      "/usr/local/anaconda3/lib/python3.6/site-packages/PIL/TiffImagePlugin.py:747: UserWarning: Possibly corrupt EXIF data.  Expecting to read 131072 bytes but only got 7486. Skipping tag 3\n",
      "  \" Skipping tag %s\" % (size, len(data), tag))\n",
      "/usr/local/anaconda3/lib/python3.6/site-packages/PIL/TiffImagePlugin.py:764: UserWarning: Corrupt EXIF data.  Expecting to read 12 bytes but only got 2. \n",
      "  warnings.warn(str(msg))\n"
     ]
    }
   ],
   "source": [
    "files = get_filenames('../Sidi_BouSaid_Style/')\n",
    "resize(files, '../Sidi_BouSaid_Style/','/home/ghassen/work/Seminar-Project/web_crawler/train/sidibou/' )\n"
   ]
  },
  {
   "cell_type": "code",
   "execution_count": 13,
   "metadata": {
    "scrolled": true
   },
   "outputs": [],
   "source": [
    "files = get_filenames('../islamic_style/')\n",
    "resize(files, '../islamic_style/','/home/ghassen/work/Seminar-Project/web_crawler/train/islamic/' )"
   ]
  },
  {
   "cell_type": "code",
   "execution_count": 14,
   "metadata": {},
   "outputs": [],
   "source": [
    "files = get_filenames('../colonial_style')\n",
    "resize(files, '../colonial_style/','/home/ghassen/work/Seminar-Project/web_crawler/train/colonial/' )"
   ]
  },
  {
   "cell_type": "code",
   "execution_count": 15,
   "metadata": {},
   "outputs": [],
   "source": [
    "files = get_filenames('../Roman_Cartaginian_style')\n",
    "resize(files, '../Roman_Cartaginian_style/','/home/ghassen/work/Seminar-Project/web_crawler/train/ancient/' )\n"
   ]
  },
  {
   "cell_type": "markdown",
   "metadata": {},
   "source": [
    "#### Now read all the images and check if their shape is okay"
   ]
  },
  {
   "cell_type": "code",
   "execution_count": 88,
   "metadata": {},
   "outputs": [],
   "source": [
    "def is_shape_okay(path_dir):\n",
    "    files = get_filenames(path_dir)\n",
    "    bad_images = []\n",
    "    for f in files:\n",
    "        im = Image.open(path_dir + f)\n",
    "        pix = np.array(im)\n",
    "        if pix.shape != (128,128,3):\n",
    "            bad_images.append(f)\n",
    "    return bad_images  \n",
    "    "
   ]
  },
  {
   "cell_type": "code",
   "execution_count": 89,
   "metadata": {},
   "outputs": [
    {
     "name": "stdout",
     "output_type": "stream",
     "text": [
      "Bad Images for architecture islamic images:  []\n",
      "Bad Images for architecture colonial images:  []\n",
      "Bad Images for architecture roman_carthage images:  []\n",
      "Bad Images for architecture thumbnails_sidibou images:  []\n"
     ]
    }
   ],
   "source": [
    "print(\"Bad Images for architecture islamic images: \", is_shape_okay('/home/ghassen/work/Seminar-Project/web_crawler/thumbnails_islamic/'))\n",
    "\n",
    "print(\"Bad Images for architecture colonial images: \", is_shape_okay('/home/ghassen/work/Seminar-Project/web_crawler/thumbnails_colonial/'))\n",
    "print(\"Bad Images for architecture roman_carthage images: \", is_shape_okay('/home/ghassen/work/Seminar-Project/web_crawler/thumbnails_roman_carthage/'))\n",
    "\n",
    "print(\"Bad Images for architecture thumbnails_sidibou images: \", is_shape_okay('/home/ghassen/work/Seminar-Project/web_crawler/thumbnails_sidibou/'))\n",
    "\n",
    "\n"
   ]
  },
  {
   "cell_type": "markdown",
   "metadata": {},
   "source": [
    "### Now we apply data Augmentation"
   ]
  },
  {
   "cell_type": "code",
   "execution_count": 77,
   "metadata": {},
   "outputs": [],
   "source": [
    "\n",
    "src_im = Image.open(\"1.jpg\")\n",
    "rotated = src_im.rotate(45)\n",
    "rotated.save('reversed' , \"JPEG\")"
   ]
  },
  {
   "cell_type": "code",
   "execution_count": 81,
   "metadata": {},
   "outputs": [
    {
     "data": {
      "text/plain": [
       "(1065, 1300, 3)"
      ]
     },
     "execution_count": 81,
     "metadata": {},
     "output_type": "execute_result"
    }
   ],
   "source": [
    "np.array(rotated).shape"
   ]
  },
  {
   "cell_type": "code",
   "execution_count": 96,
   "metadata": {},
   "outputs": [],
   "source": [
    "def rotate_images(path, save_to):\n",
    "    files = get_filenames(path)\n",
    "    for f in files:\n",
    "        im = Image.open(path + f)\n",
    "        rotated = im.rotate(45)\n",
    "        rotated.save(save_to + \"rot_\" +f , \"JPEG\")"
   ]
  },
  {
   "cell_type": "code",
   "execution_count": 97,
   "metadata": {},
   "outputs": [],
   "source": [
    "rotate_images('/home/ghassen/work/Seminar-Project/web_crawler/thumbnails_islamic/', \n",
    "             '/home/ghassen/work/Seminar-Project/web_crawler/rotated_islamic/')"
   ]
  },
  {
   "cell_type": "code",
   "execution_count": 98,
   "metadata": {},
   "outputs": [],
   "source": [
    "rotate_images('/home/ghassen/work/Seminar-Project/web_crawler/thumbnails_sidibou/', \n",
    "             '/home/ghassen/work/Seminar-Project/web_crawler/rotated_sidibou/')"
   ]
  },
  {
   "cell_type": "code",
   "execution_count": 99,
   "metadata": {},
   "outputs": [],
   "source": [
    "rotate_images('/home/ghassen/work/Seminar-Project/web_crawler/thumbnails_colonial/', \n",
    "             '/home/ghassen/work/Seminar-Project/web_crawler/rotated_colonial/')"
   ]
  },
  {
   "cell_type": "code",
   "execution_count": 100,
   "metadata": {},
   "outputs": [],
   "source": [
    "rotate_images('/home/ghassen/work/Seminar-Project/web_crawler/thumbnails_roman_carthage/', \n",
    "             '/home/ghassen/work/Seminar-Project/web_crawler/rotated_roman_carthage/')"
   ]
  },
  {
   "cell_type": "code",
   "execution_count": 101,
   "metadata": {},
   "outputs": [
    {
     "name": "stdout",
     "output_type": "stream",
     "text": [
      "Bad Images for architecture islamic images:  []\n",
      "Bad Images for architecture colonial images:  []\n",
      "Bad Images for architecture roman_carthage images:  []\n",
      "Bad Images for architecture thumbnails_sidibou images:  []\n"
     ]
    }
   ],
   "source": [
    "print(\"Bad Images for architecture islamic images: \", \n",
    "      is_shape_okay('/home/ghassen/work/Seminar-Project/web_crawler/rotated_islamic/'))\n",
    "\n",
    "print(\"Bad Images for architecture colonial images: \", \n",
    "      is_shape_okay('/home/ghassen/work/Seminar-Project/web_crawler/rotated_colonial/'))\n",
    "print(\"Bad Images for architecture roman_carthage images: \",\n",
    "      is_shape_okay('/home/ghassen/work/Seminar-Project/web_crawler/rotated_roman_carthage/'))\n",
    "\n",
    "print(\"Bad Images for architecture thumbnails_sidibou images: \", \n",
    "      is_shape_okay('/home/ghassen/work/Seminar-Project/web_crawler/rotated_sidibou/'))\n",
    "\n",
    "\n"
   ]
  },
  {
   "cell_type": "markdown",
   "metadata": {},
   "source": [
    "## Prepare data\n",
    "\n",
    "list of numpy arrays for all categories"
   ]
  },
  {
   "cell_type": "code",
   "execution_count": 64,
   "metadata": {},
   "outputs": [],
   "source": [
    "path_islamic = \"/home/ghassen/work/Seminar-Project/web_crawler/thumbnails_islamic/\"\n",
    "path_roman = '/home/ghassen/work/Seminar-Project/web_crawler/thumbnails_roman_carthage/'\n",
    "path_sidibou = '/home/ghassen/work/Seminar-Project/web_crawler/thumbnails_sidibou/'\n",
    "path_colonial = '/home/ghassen/work/Seminar-Project/web_crawler/thumbnails_colonial/'\n",
    "\n",
    "sidibou_files = get_filenames(path_sidibou)\n",
    "roman_files = get_filenames(path_roman)\n",
    "colonial_files = get_filenames(path_colonial)\n",
    "islamic_files = get_filenames(path_islamic)\n",
    "\n",
    "def get_arrays(files, path_dir, label):\n",
    "    X_train = []\n",
    "    Y_train = []\n",
    "    for f in files[:len(files)-200]:\n",
    "        im = Image.open(path_dir + f)\n",
    "        pix = np.array(im)\n",
    "        if pix.shape == (128,128,3):\n",
    "            #pix = pix.reshape(1, 128,128,3)\n",
    "            X_train.append(pix)\n",
    "            Y_train.append(label)\n",
    "            \n",
    "    X_test = []\n",
    "    Y_test = []\n",
    "    for f in files[len(files)-200:]:\n",
    "        im = Image.open(path_dir + f)\n",
    "        pix = np.array(im)\n",
    "        if pix.shape == (128,128,3):\n",
    "            #pix = pix.reshape(1, 128,128,3)\n",
    "            X_test.append(pix)\n",
    "            Y_test.append(label)\n",
    "    return X_train, Y_train, X_test,Y_test\n",
    "\n",
    "        \n"
   ]
  },
  {
   "cell_type": "code",
   "execution_count": 65,
   "metadata": {},
   "outputs": [],
   "source": [
    "x_islamic_train,y_islamic_train, x_islamic_test,y_islamic_test = get_arrays(islamic_files, path_islamic,'islamic')\n",
    "x_roman_train,y_roman_train, x_roman_test,y_roman_test  = get_arrays(roman_files, path_roman,'roman')\n",
    "x_colonial_train,y_colonial_train, x_colonial_test,y_colonial_test  = get_arrays(colonial_files, path_colonial,'colonial')\n",
    "x_sidibou_train,y_sidibou_train, x_sidibou_test,y_sidibou_test  = get_arrays(sidibou_files, path_sidibou,'sidibou')"
   ]
  },
  {
   "cell_type": "code",
   "execution_count": null,
   "metadata": {},
   "outputs": [],
   "source": []
  },
  {
   "cell_type": "code",
   "execution_count": 69,
   "metadata": {},
   "outputs": [],
   "source": [
    "X_train = x_islamic_train + x_roman_train + x_colonial_train + x_sidibou_train\n",
    "Y_train = y_islamic_train + y_roman_train + y_colonial_train + y_sidibou_train\n",
    "\n",
    "X_test = x_islamic_test + x_roman_test + x_colonial_test + x_sidibou_test\n",
    "Y_test = y_islamic_test + y_roman_test + y_colonial_test + y_sidibou_test"
   ]
  },
  {
   "cell_type": "code",
   "execution_count": 70,
   "metadata": {},
   "outputs": [
    {
     "data": {
      "text/plain": [
       "800"
      ]
     },
     "execution_count": 70,
     "metadata": {},
     "output_type": "execute_result"
    }
   ],
   "source": [
    "len(X_test)"
   ]
  },
  {
   "cell_type": "code",
   "execution_count": 71,
   "metadata": {},
   "outputs": [],
   "source": [
    "import pickle\n",
    "\n",
    "with open('X_tain.pkl', 'wb') as f:\n",
    "    pickle.dump(X_train, f)\n",
    "with open('Y_train.pkl', 'wb') as f:\n",
    "    pickle.dump(Y_train, f)\n",
    "with open('X_test.pkl', 'wb') as f:\n",
    "    pickle.dump(X_test, f)\n",
    "with open('Y_test.pkl', 'wb') as f:\n",
    "    pickle.dump(Y_test, f)"
   ]
  },
  {
   "cell_type": "code",
   "execution_count": 23,
   "metadata": {},
   "outputs": [],
   "source": [
    "from keras.preprocessing.image import ImageDataGenerator, array_to_img, img_to_array, load_img\n",
    "\n",
    "img = load_img('1')  # this is a PIL image\n",
    "x = img_to_array(img)  # this is a Numpy array with shape (3, 150, 150)\n",
    "x = x.reshape((1,) + x.shape)\n"
   ]
  },
  {
   "cell_type": "code",
   "execution_count": 24,
   "metadata": {},
   "outputs": [
    {
     "data": {
      "text/plain": [
       "(1, 128, 128, 3)"
      ]
     },
     "execution_count": 24,
     "metadata": {},
     "output_type": "execute_result"
    }
   ],
   "source": [
    "x.shape"
   ]
  },
  {
   "cell_type": "code",
   "execution_count": 25,
   "metadata": {},
   "outputs": [],
   "source": [
    "x= x.reshape(1,3, 128,128)"
   ]
  },
  {
   "cell_type": "code",
   "execution_count": null,
   "metadata": {},
   "outputs": [],
   "source": []
  },
  {
   "cell_type": "code",
   "execution_count": null,
   "metadata": {},
   "outputs": [],
   "source": []
  }
 ],
 "metadata": {
  "kernelspec": {
   "display_name": "Python 3",
   "language": "python",
   "name": "python3"
  },
  "language_info": {
   "codemirror_mode": {
    "name": "ipython",
    "version": 3
   },
   "file_extension": ".py",
   "mimetype": "text/x-python",
   "name": "python",
   "nbconvert_exporter": "python",
   "pygments_lexer": "ipython3",
   "version": "3.6.6"
  }
 },
 "nbformat": 4,
 "nbformat_minor": 2
}
